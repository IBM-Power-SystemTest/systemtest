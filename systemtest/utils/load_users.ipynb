{
 "metadata": {
  "language_info": {
   "codemirror_mode": {
    "name": "ipython",
    "version": 3
   },
   "file_extension": ".py",
   "mimetype": "text/x-python",
   "name": "python",
   "nbconvert_exporter": "python",
   "pygments_lexer": "ipython3",
   "version": "3.9.2-final"
  },
  "orig_nbformat": 2,
  "kernelspec": {
   "name": "python3",
   "display_name": "Python 3",
   "language": "python"
  }
 },
 "nbformat": 4,
 "nbformat_minor": 2,
 "cells": [
  {
   "cell_type": "code",
   "execution_count": null,
   "metadata": {},
   "outputs": [],
   "source": [
    "import csv"
   ]
  },
  {
   "cell_type": "code",
   "execution_count": null,
   "metadata": {},
   "outputs": [],
   "source": [
    "def get_rows(filepath):\n",
    "    with open(filepath, \"r\") as f:\n",
    "        for row in csv.DictReader(f):\n",
    "            yield row\n"
   ]
  },
  {
   "cell_type": "code",
   "execution_count": null,
   "metadata": {},
   "outputs": [],
   "source": [
    "departaments = Departament.objects.all()\n",
    "jobs = Job.objects.all()\n",
    "for i, row in enumerate(get_rows(\"u.csv\")):\n",
    "    row[\"password\"] = f\"ptspass{i:02x}\"\n",
    "    row[\"departament\"] = departaments[int(row[\"departament\"])]\n",
    "    row[\"job\"] = jobs[int(row[\"job\"])]\n",
    "    row[\"staff\"]\n",
    "    print(row)"
   ]
  },
  {
   "cell_type": "code",
   "execution_count": null,
   "metadata": {},
   "outputs": [],
   "source": [
    "def create_user(user_data: dict[str, Any]) -> None:\n",
    "    user_data[\"password\"] = user_data.get(\"password\", \"passw0rd\")\n",
    "    user_data[\"last_name\"] = user_data.get(\"first_name\", \"Test\")\n",
    "    user_data[\"last_name\"] = user_data.get(\"last_name\", \"Test\")\n",
    "    user_data[\"email\"] = user_data.get(\"email\", \"admin@test.com\")\n",
    "    user_data[\"department\"] = user_data.get(\"department\", Departament.objects.get(pk=1))\n",
    "    user_data[\"job\"] = user_data.get(\"job\", Job.objects.get(pk=1))\n",
    "    \n",
    "    group = user_data.pop(\"group\")\n",
    "    try:\n",
    "        user = User.objects.create_user(**user_data)\n",
    "    except IntegrityError:\n",
    "        return None\n",
    "\n",
    "    try:\n",
    "        user.groups.add(Group.objects.get(name=group))\n",
    "    except ObjectDoesNotExist:\n",
    "        pass"
   ]
  }
 ]
}